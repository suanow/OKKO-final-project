{
 "cells": [
  {
   "cell_type": "code",
   "execution_count": 193,
   "metadata": {},
   "outputs": [],
   "source": [
    "import pandas as pd\n",
    "import numpy as np\n",
    "import datetime\n",
    "import re\n",
    "import requests"
   ]
  },
  {
   "cell_type": "code",
   "execution_count": 169,
   "metadata": {},
   "outputs": [],
   "source": [
    "KP_API_KEY = '6D9ZG1R-5ATMRD5-P9VZN9W-NP13D77'"
   ]
  },
  {
   "cell_type": "code",
   "execution_count": 133,
   "metadata": {},
   "outputs": [],
   "source": [
    "interactions = pd.read_parquet('interactions.parquet',engine='pyarrow')\n",
    "movies_md = pd.read_parquet('movies_metdata.parquet',engine='pyarrow')"
   ]
  },
  {
   "cell_type": "code",
   "execution_count": 4,
   "metadata": {},
   "outputs": [
    {
     "data": {
      "text/html": [
       "<div>\n",
       "<style scoped>\n",
       "    .dataframe tbody tr th:only-of-type {\n",
       "        vertical-align: middle;\n",
       "    }\n",
       "\n",
       "    .dataframe tbody tr th {\n",
       "        vertical-align: top;\n",
       "    }\n",
       "\n",
       "    .dataframe thead th {\n",
       "        text-align: right;\n",
       "    }\n",
       "</style>\n",
       "<table border=\"1\" class=\"dataframe\">\n",
       "  <thead>\n",
       "    <tr style=\"text-align: right;\">\n",
       "      <th></th>\n",
       "      <th>year</th>\n",
       "      <th>month</th>\n",
       "      <th>day</th>\n",
       "      <th>user_id</th>\n",
       "      <th>movie_id</th>\n",
       "      <th>watch_duration_minutes</th>\n",
       "    </tr>\n",
       "  </thead>\n",
       "  <tbody>\n",
       "    <tr>\n",
       "      <th>0</th>\n",
       "      <td>2022</td>\n",
       "      <td>10</td>\n",
       "      <td>1</td>\n",
       "      <td>58073</td>\n",
       "      <td>a6889772-f1f4-45bc-9663-85b46fc8499d</td>\n",
       "      <td>4.800000</td>\n",
       "    </tr>\n",
       "    <tr>\n",
       "      <th>1</th>\n",
       "      <td>2022</td>\n",
       "      <td>10</td>\n",
       "      <td>1</td>\n",
       "      <td>63698</td>\n",
       "      <td>c829f262-ddf1-46b7-a896-a7efc205028c</td>\n",
       "      <td>15.000000</td>\n",
       "    </tr>\n",
       "    <tr>\n",
       "      <th>2</th>\n",
       "      <td>2022</td>\n",
       "      <td>10</td>\n",
       "      <td>1</td>\n",
       "      <td>66655</td>\n",
       "      <td>91f9d892-a508-4962-91e9-abacd93e0830</td>\n",
       "      <td>51.916668</td>\n",
       "    </tr>\n",
       "    <tr>\n",
       "      <th>3</th>\n",
       "      <td>2022</td>\n",
       "      <td>10</td>\n",
       "      <td>1</td>\n",
       "      <td>66655</td>\n",
       "      <td>58b805e1-a65c-49f4-b302-865cacaaed8a</td>\n",
       "      <td>22.316668</td>\n",
       "    </tr>\n",
       "    <tr>\n",
       "      <th>4</th>\n",
       "      <td>2022</td>\n",
       "      <td>10</td>\n",
       "      <td>1</td>\n",
       "      <td>67981</td>\n",
       "      <td>dbc44c07-46e2-4fb0-b57c-8b5172421683</td>\n",
       "      <td>117.000000</td>\n",
       "    </tr>\n",
       "  </tbody>\n",
       "</table>\n",
       "</div>"
      ],
      "text/plain": [
       "   year  month  day  user_id                              movie_id  \\\n",
       "0  2022     10    1    58073  a6889772-f1f4-45bc-9663-85b46fc8499d   \n",
       "1  2022     10    1    63698  c829f262-ddf1-46b7-a896-a7efc205028c   \n",
       "2  2022     10    1    66655  91f9d892-a508-4962-91e9-abacd93e0830   \n",
       "3  2022     10    1    66655  58b805e1-a65c-49f4-b302-865cacaaed8a   \n",
       "4  2022     10    1    67981  dbc44c07-46e2-4fb0-b57c-8b5172421683   \n",
       "\n",
       "   watch_duration_minutes  \n",
       "0                4.800000  \n",
       "1               15.000000  \n",
       "2               51.916668  \n",
       "3               22.316668  \n",
       "4              117.000000  "
      ]
     },
     "execution_count": 4,
     "metadata": {},
     "output_type": "execute_result"
    }
   ],
   "source": [
    "interactions.head(5)"
   ]
  },
  {
   "cell_type": "code",
   "execution_count": 35,
   "metadata": {},
   "outputs": [
    {
     "data": {
      "text/html": [
       "<div>\n",
       "<style scoped>\n",
       "    .dataframe tbody tr th:only-of-type {\n",
       "        vertical-align: middle;\n",
       "    }\n",
       "\n",
       "    .dataframe tbody tr th {\n",
       "        vertical-align: top;\n",
       "    }\n",
       "\n",
       "    .dataframe thead th {\n",
       "        text-align: right;\n",
       "    }\n",
       "</style>\n",
       "<table border=\"1\" class=\"dataframe\">\n",
       "  <thead>\n",
       "    <tr style=\"text-align: right;\">\n",
       "      <th></th>\n",
       "      <th>movie_id</th>\n",
       "      <th>title</th>\n",
       "      <th>entity_type</th>\n",
       "      <th>genres</th>\n",
       "      <th>actors</th>\n",
       "      <th>director</th>\n",
       "      <th>country</th>\n",
       "      <th>release_world</th>\n",
       "      <th>age_rating</th>\n",
       "      <th>duration</th>\n",
       "      <th>age</th>\n",
       "      <th>user_id</th>\n",
       "      <th>popularity</th>\n",
       "    </tr>\n",
       "  </thead>\n",
       "  <tbody>\n",
       "    <tr>\n",
       "      <th>0</th>\n",
       "      <td>395a85a9-2200-4a29-a878-97753c471f79</td>\n",
       "      <td>Свиридовы</td>\n",
       "      <td>Серия</td>\n",
       "      <td>[\"Мелодрамы\"]</td>\n",
       "      <td>[\"Андрей Мерзликин\",\"Алексей Горбунов\",\"Елена ...</td>\n",
       "      <td>[\"Эльдар Салаватов\"]</td>\n",
       "      <td>[\"Россия\"]</td>\n",
       "      <td>2013-12-15</td>\n",
       "      <td>16.0</td>\n",
       "      <td>49.0</td>\n",
       "      <td>113.0</td>\n",
       "      <td>NaN</td>\n",
       "      <td>NaN</td>\n",
       "    </tr>\n",
       "    <tr>\n",
       "      <th>1</th>\n",
       "      <td>6fd5f7b5-8278-4d9a-b03a-54a8bf0bc7c8</td>\n",
       "      <td>Охотники за головами</td>\n",
       "      <td>Серия</td>\n",
       "      <td>[\"Детективы\",\"Драмы\"]</td>\n",
       "      <td>[\"Филипп Янковский\",\"Елизавета Боярская\",\"Конс...</td>\n",
       "      <td>[\"Иван Шурховецкий\"]</td>\n",
       "      <td>[\"Россия\"]</td>\n",
       "      <td>2014-03-03</td>\n",
       "      <td>16.0</td>\n",
       "      <td>48.0</td>\n",
       "      <td>110.0</td>\n",
       "      <td>NaN</td>\n",
       "      <td>NaN</td>\n",
       "    </tr>\n",
       "    <tr>\n",
       "      <th>2</th>\n",
       "      <td>b239c99e-d1ea-4c01-b83f-6b5469a6b70a</td>\n",
       "      <td>Молодое поколение</td>\n",
       "      <td>Серия</td>\n",
       "      <td>[\"Комедии\",\"Мелодрамы\"]</td>\n",
       "      <td>[\"Юн Пак\",\"Пак Ын-бин\",\"Хан Е-ри\",\"Ким Мин-сок...</td>\n",
       "      <td>[\"Ким Сан-хо\",\"Ли Тхэ-гон\"]</td>\n",
       "      <td>[\"Корея Южная\"]</td>\n",
       "      <td>2016-07-22</td>\n",
       "      <td>16.0</td>\n",
       "      <td>65.0</td>\n",
       "      <td>82.0</td>\n",
       "      <td>NaN</td>\n",
       "      <td>NaN</td>\n",
       "    </tr>\n",
       "    <tr>\n",
       "      <th>3</th>\n",
       "      <td>9dc02ab1-7bd2-45c2-9b8c-ae29e9813ccf</td>\n",
       "      <td>Художницы</td>\n",
       "      <td>Серия</td>\n",
       "      <td>[\"Документальное\"]</td>\n",
       "      <td>[\"Катарина Лопаткина\"]</td>\n",
       "      <td>[\"Школа Masters\"]</td>\n",
       "      <td>[\"Россия\"]</td>\n",
       "      <td>2019-02-01</td>\n",
       "      <td>18.0</td>\n",
       "      <td>27.0</td>\n",
       "      <td>51.0</td>\n",
       "      <td>NaN</td>\n",
       "      <td>NaN</td>\n",
       "    </tr>\n",
       "    <tr>\n",
       "      <th>4</th>\n",
       "      <td>54b3b5fe-7d2a-47ba-9a1d-4dc3a3a8ff96</td>\n",
       "      <td>Веселая Астрология</td>\n",
       "      <td>Серия</td>\n",
       "      <td>[\"Мультфильмы\"]</td>\n",
       "      <td>[\"Стивен Боунс\",\"Хашир Хайзал Хаилми\",\"Логандр...</td>\n",
       "      <td>[\"Кен Фунг\"]</td>\n",
       "      <td>[\"Малайзия\"]</td>\n",
       "      <td>2017-10-01</td>\n",
       "      <td>6.0</td>\n",
       "      <td>3.0</td>\n",
       "      <td>67.0</td>\n",
       "      <td>NaN</td>\n",
       "      <td>NaN</td>\n",
       "    </tr>\n",
       "  </tbody>\n",
       "</table>\n",
       "</div>"
      ],
      "text/plain": [
       "                               movie_id                 title entity_type  \\\n",
       "0  395a85a9-2200-4a29-a878-97753c471f79             Свиридовы       Серия   \n",
       "1  6fd5f7b5-8278-4d9a-b03a-54a8bf0bc7c8  Охотники за головами       Серия   \n",
       "2  b239c99e-d1ea-4c01-b83f-6b5469a6b70a     Молодое поколение       Серия   \n",
       "3  9dc02ab1-7bd2-45c2-9b8c-ae29e9813ccf             Художницы       Серия   \n",
       "4  54b3b5fe-7d2a-47ba-9a1d-4dc3a3a8ff96    Веселая Астрология       Серия   \n",
       "\n",
       "                    genres                                             actors  \\\n",
       "0            [\"Мелодрамы\"]  [\"Андрей Мерзликин\",\"Алексей Горбунов\",\"Елена ...   \n",
       "1    [\"Детективы\",\"Драмы\"]  [\"Филипп Янковский\",\"Елизавета Боярская\",\"Конс...   \n",
       "2  [\"Комедии\",\"Мелодрамы\"]  [\"Юн Пак\",\"Пак Ын-бин\",\"Хан Е-ри\",\"Ким Мин-сок...   \n",
       "3       [\"Документальное\"]                             [\"Катарина Лопаткина\"]   \n",
       "4          [\"Мультфильмы\"]  [\"Стивен Боунс\",\"Хашир Хайзал Хаилми\",\"Логандр...   \n",
       "\n",
       "                      director          country release_world  age_rating  \\\n",
       "0         [\"Эльдар Салаватов\"]       [\"Россия\"]    2013-12-15        16.0   \n",
       "1         [\"Иван Шурховецкий\"]       [\"Россия\"]    2014-03-03        16.0   \n",
       "2  [\"Ким Сан-хо\",\"Ли Тхэ-гон\"]  [\"Корея Южная\"]    2016-07-22        16.0   \n",
       "3            [\"Школа Masters\"]       [\"Россия\"]    2019-02-01        18.0   \n",
       "4                 [\"Кен Фунг\"]     [\"Малайзия\"]    2017-10-01         6.0   \n",
       "\n",
       "   duration    age  user_id  popularity  \n",
       "0      49.0  113.0      NaN         NaN  \n",
       "1      48.0  110.0      NaN         NaN  \n",
       "2      65.0   82.0      NaN         NaN  \n",
       "3      27.0   51.0      NaN         NaN  \n",
       "4       3.0   67.0      NaN         NaN  "
      ]
     },
     "execution_count": 35,
     "metadata": {},
     "output_type": "execute_result"
    }
   ],
   "source": [
    "movies_md.head(5)"
   ]
  },
  {
   "cell_type": "markdown",
   "metadata": {},
   "source": [
    "# Adding features"
   ]
  },
  {
   "cell_type": "code",
   "execution_count": 10,
   "metadata": {},
   "outputs": [
    {
     "data": {
      "text/plain": [
       "movie_id          object\n",
       "title             object\n",
       "entity_type       object\n",
       "genres            object\n",
       "actors            object\n",
       "director          object\n",
       "country           object\n",
       "release_world     object\n",
       "age_rating       float64\n",
       "duration         float64\n",
       "dtype: object"
      ]
     },
     "execution_count": 10,
     "metadata": {},
     "output_type": "execute_result"
    }
   ],
   "source": [
    "movies_md.dtypes"
   ]
  },
  {
   "cell_type": "code",
   "execution_count": 134,
   "metadata": {},
   "outputs": [],
   "source": [
    "# Age: today - release\n",
    "today = '2023-05-10'\n",
    "\n",
    "movies_md['release_world']= pd.to_datetime(movies_md['release_world'])\n",
    "for_age = pd.to_datetime(today)\n",
    "\n",
    "age_list = []\n",
    "\n",
    "for date in movies_md['release_world']:\n",
    "    years = for_age.year - date.year\n",
    "    months = for_age.month - date.month\n",
    "    age = years * 12 + months\n",
    "    \n",
    "    age_list.append(age)\n",
    "    \n",
    "movies_md['age'] = age_list\n",
    "    "
   ]
  },
  {
   "cell_type": "code",
   "execution_count": 135,
   "metadata": {},
   "outputs": [],
   "source": [
    "# Popularity: number of watches per film\n",
    "\n",
    "popularity = interactions.groupby('movie_id')['user_id'].count().reset_index()\n",
    "popularity.columns = ['movie_id', 'popularity']\n",
    "\n",
    "movies_md = movies_md.join(popularity.set_index('movie_id'), how='left', on='movie_id')\n",
    "movies_md['popularity'] = movies_md['popularity'].fillna(0)"
   ]
  },
  {
   "cell_type": "code",
   "execution_count": 136,
   "metadata": {},
   "outputs": [],
   "source": [
    "# AVG time: average time of watching the film / duration of the film\n",
    "\n",
    "avg_time_min = interactions.groupby('movie_id')['watch_duration_minutes'].mean().reset_index()\n",
    "avg_time_min = avg_time_min.join(movies_md[['movie_id', 'duration']].set_index('movie_id'), how='left', on='movie_id')\n",
    "avg_time_min['avg_time'] = avg_time_min['watch_duration_minutes'] / avg_time_min['duration'] * 100\n",
    "avg_time_min = avg_time_min[['movie_id', 'avg_time']]\n",
    "\n",
    "movies_md = movies_md.join(avg_time_min.set_index('movie_id'), how='left', on='movie_id')\n",
    "movies_md['avg_time'] = movies_md['avg_time'].fillna(0)"
   ]
  },
  {
   "cell_type": "code",
   "execution_count": 137,
   "metadata": {},
   "outputs": [],
   "source": [
    "# Genre popularity: how popular the genre is overall\n",
    "\n",
    "def genres_to_list(x):\n",
    "    if x is not None:\n",
    "        x = x.replace(',', ',')\n",
    "        x = x.replace('\"', '')\n",
    "        x = x.replace('[', '')\n",
    "        x = x.replace(']', '')\n",
    "        x = x.split(',')\n",
    "        return x\n",
    "    return x\n",
    "\n",
    "\n",
    "movies_md['genres'] = movies_md['genres'].apply(lambda x: genres_to_list(x))"
   ]
  },
  {
   "cell_type": "code",
   "execution_count": null,
   "metadata": {},
   "outputs": [],
   "source": [
    "for_genres = interactions[['user_id', 'movie_id']].copy()\n",
    "for_genres = for_genres.join(movies_md[['movie_id', 'genres']].set_index('movie_id'), how='left', on='movie_id')\n",
    "\n",
    "# count every genre in description\n",
    "# genres_all_inter = [item for sublist in for_genres.genres.dropna() for item in sublist] \n",
    "\n",
    "# count top genre in description\n"
   ]
  },
  {
   "attachments": {},
   "cell_type": "markdown",
   "metadata": {},
   "source": [
    "# Get rating and description"
   ]
  },
  {
   "cell_type": "code",
   "execution_count": 222,
   "metadata": {},
   "outputs": [
    {
     "data": {
      "text/plain": [
       "0"
      ]
     },
     "execution_count": 222,
     "metadata": {},
     "output_type": "execute_result"
    }
   ],
   "source": [
    "name = 'Азбука финансовой грамотности'\n",
    "headers = {'X-API-KEY': KP_API_KEY}\n",
    "\n",
    "response = requests.get('https://api.kinopoisk.dev/v1.3/movie', params={'selectFields':['rating.kp','description'],'name':name,'limit':1}, headers=headers)\n",
    "rating = response.json()\n",
    "len(rating['docs'])"
   ]
  },
  {
   "cell_type": "code",
   "execution_count": 235,
   "metadata": {},
   "outputs": [
    {
     "data": {
      "text/html": [
       "<div>\n",
       "<style scoped>\n",
       "    .dataframe tbody tr th:only-of-type {\n",
       "        vertical-align: middle;\n",
       "    }\n",
       "\n",
       "    .dataframe tbody tr th {\n",
       "        vertical-align: top;\n",
       "    }\n",
       "\n",
       "    .dataframe thead th {\n",
       "        text-align: right;\n",
       "    }\n",
       "</style>\n",
       "<table border=\"1\" class=\"dataframe\">\n",
       "  <thead>\n",
       "    <tr style=\"text-align: right;\">\n",
       "      <th></th>\n",
       "      <th>rating</th>\n",
       "      <th>description</th>\n",
       "      <th>name</th>\n",
       "    </tr>\n",
       "  </thead>\n",
       "  <tbody>\n",
       "    <tr>\n",
       "      <th>0</th>\n",
       "      <td>-1</td>\n",
       "      <td></td>\n",
       "      <td>Азбука финансовой грамотности</td>\n",
       "    </tr>\n",
       "  </tbody>\n",
       "</table>\n",
       "</div>"
      ],
      "text/plain": [
       "   rating description                           name\n",
       "0      -1              Азбука финансовой грамотности"
      ]
     },
     "execution_count": 235,
     "metadata": {},
     "output_type": "execute_result"
    }
   ],
   "source": [
    "import requests\n",
    "headers = {'X-API-KEY': KP_API_KEY}\n",
    "\n",
    "def get_rating(name):\n",
    "    response = requests.get('https://api.kinopoisk.dev/v1.3/movie', params={'selectFields':['rating.kp','description'],'name':name,'limit':1}, headers=headers)\n",
    "    rating = response.json()\n",
    "    if len(rating['docs']) != 0:\n",
    "        rating = pd.DataFrame(rating['docs'])\n",
    "        rating['rating'] = [dict(x).values() for x in rating['rating']]\n",
    "        rating['name'] = name\n",
    "        \n",
    "        return rating\n",
    "    \n",
    "    else:\n",
    "        return pd.DataFrame({'rating':-1, 'description':' ', 'name':name}, index=[0])\n",
    "\n",
    "a = get_rating('Азбука финансовой грамотности')\n",
    "a"
   ]
  },
  {
   "cell_type": "code",
   "execution_count": 255,
   "metadata": {},
   "outputs": [],
   "source": [
    "interactions_new = interactions.join(movies_md[['movie_id', 'title']].set_index('movie_id'), how='left', on='movie_id')"
   ]
  },
  {
   "cell_type": "code",
   "execution_count": 254,
   "metadata": {},
   "outputs": [],
   "source": [
    "ratings_n_descrs = pd.DataFrame()\n",
    "\n",
    "for name in interactions_new['title'].unique().tolist():\n",
    "    ratings_n_descrs = pd.concat([ratings_n_descrs, get_rating(name)])"
   ]
  },
  {
   "cell_type": "code",
   "execution_count": 256,
   "metadata": {},
   "outputs": [
    {
     "data": {
      "text/html": [
       "<div>\n",
       "<style scoped>\n",
       "    .dataframe tbody tr th:only-of-type {\n",
       "        vertical-align: middle;\n",
       "    }\n",
       "\n",
       "    .dataframe tbody tr th {\n",
       "        vertical-align: top;\n",
       "    }\n",
       "\n",
       "    .dataframe thead th {\n",
       "        text-align: right;\n",
       "    }\n",
       "</style>\n",
       "<table border=\"1\" class=\"dataframe\">\n",
       "  <thead>\n",
       "    <tr style=\"text-align: right;\">\n",
       "      <th></th>\n",
       "      <th>rating</th>\n",
       "      <th>description</th>\n",
       "      <th>name</th>\n",
       "    </tr>\n",
       "  </thead>\n",
       "  <tbody>\n",
       "    <tr>\n",
       "      <th>0</th>\n",
       "      <td>(6.664)</td>\n",
       "      <td>Мама, папа и… пятеро щенят. У Барбоскиных все,...</td>\n",
       "      <td>Барбоскины</td>\n",
       "    </tr>\n",
       "    <tr>\n",
       "      <th>0</th>\n",
       "      <td>(6.383)</td>\n",
       "      <td>Эми — амбициозная девушка, всегда мечтавшая о ...</td>\n",
       "      <td>Эскортницы</td>\n",
       "    </tr>\n",
       "    <tr>\n",
       "      <th>0</th>\n",
       "      <td>(6.936)</td>\n",
       "      <td>Вадик, молодой опер из Москвы, переводится в П...</td>\n",
       "      <td>1703</td>\n",
       "    </tr>\n",
       "    <tr>\n",
       "      <th>0</th>\n",
       "      <td>(7.167)</td>\n",
       "      <td>Две молодые американки Вики и Кристина проводя...</td>\n",
       "      <td>КрисТина</td>\n",
       "    </tr>\n",
       "    <tr>\n",
       "      <th>0</th>\n",
       "      <td>(7.387)</td>\n",
       "      <td>Семь лет назад Джейк влип в неприятную историю...</td>\n",
       "      <td>Револьвер</td>\n",
       "    </tr>\n",
       "  </tbody>\n",
       "</table>\n",
       "</div>"
      ],
      "text/plain": [
       "    rating                                        description        name\n",
       "0  (6.664)  Мама, папа и… пятеро щенят. У Барбоскиных все,...  Барбоскины\n",
       "0  (6.383)  Эми — амбициозная девушка, всегда мечтавшая о ...  Эскортницы\n",
       "0  (6.936)  Вадик, молодой опер из Москвы, переводится в П...        1703\n",
       "0  (7.167)  Две молодые американки Вики и Кристина проводя...    КрисТина\n",
       "0  (7.387)  Семь лет назад Джейк влип в неприятную историю...   Револьвер"
      ]
     },
     "execution_count": 256,
     "metadata": {},
     "output_type": "execute_result"
    }
   ],
   "source": [
    "ratings_n_descrs.to_csv('ratings_n_descrs.csv')"
   ]
  },
  {
   "attachments": {},
   "cell_type": "markdown",
   "metadata": {},
   "source": [
    "# DL"
   ]
  },
  {
   "cell_type": "code",
   "execution_count": null,
   "metadata": {},
   "outputs": [],
   "source": [
    "import tensorflow as tf\n",
    "import tensorflow_recommenders as tfrs"
   ]
  },
  {
   "cell_type": "code",
   "execution_count": 1,
   "metadata": {},
   "outputs": [],
   "source": [
    "import pandas as pd"
   ]
  },
  {
   "cell_type": "code",
   "execution_count": 2,
   "metadata": {},
   "outputs": [
    {
     "ename": "",
     "evalue": "",
     "output_type": "error",
     "traceback": [
      "\u001b[1;31mCanceled future for execute_request message before replies were done"
     ]
    },
    {
     "ename": "",
     "evalue": "",
     "output_type": "error",
     "traceback": [
      "\u001b[1;31mПри выполнении кода в текущей ячейке или предыдущей ячейке ядро аварийно завершило работу. Проверьте код в ячейках, чтобы определить возможную причину сбоя. Щелкните <a href=\"https://aka.ms/vscodeJupyterKernelCrash\">здесь</a> для получения дополнительных сведений. Подробнее см. в <a href='command:jupyter.viewOutput'>журнале Jupyter</a>."
     ]
    }
   ],
   "source": [
    "import tensorflow as tf"
   ]
  },
  {
   "cell_type": "code",
   "execution_count": null,
   "metadata": {},
   "outputs": [],
   "source": []
  },
  {
   "cell_type": "code",
   "execution_count": null,
   "metadata": {},
   "outputs": [],
   "source": []
  },
  {
   "cell_type": "code",
   "execution_count": null,
   "metadata": {},
   "outputs": [],
   "source": []
  },
  {
   "cell_type": "code",
   "execution_count": null,
   "metadata": {},
   "outputs": [],
   "source": []
  },
  {
   "cell_type": "code",
   "execution_count": 45,
   "metadata": {},
   "outputs": [
    {
     "data": {
      "text/html": [
       "<div>\n",
       "<style scoped>\n",
       "    .dataframe tbody tr th:only-of-type {\n",
       "        vertical-align: middle;\n",
       "    }\n",
       "\n",
       "    .dataframe tbody tr th {\n",
       "        vertical-align: top;\n",
       "    }\n",
       "\n",
       "    .dataframe thead th {\n",
       "        text-align: right;\n",
       "    }\n",
       "</style>\n",
       "<table border=\"1\" class=\"dataframe\">\n",
       "  <thead>\n",
       "    <tr style=\"text-align: right;\">\n",
       "      <th></th>\n",
       "      <th>year</th>\n",
       "      <th>month</th>\n",
       "      <th>day</th>\n",
       "      <th>user_id</th>\n",
       "      <th>movie_id</th>\n",
       "      <th>watch_duration_minutes</th>\n",
       "    </tr>\n",
       "  </thead>\n",
       "  <tbody>\n",
       "    <tr>\n",
       "      <th>938078</th>\n",
       "      <td>2022</td>\n",
       "      <td>11</td>\n",
       "      <td>17</td>\n",
       "      <td>228424759</td>\n",
       "      <td>b2cd3955-e7a7-4ba4-b9ef-b3f86df35de2</td>\n",
       "      <td>1755.366699</td>\n",
       "    </tr>\n",
       "  </tbody>\n",
       "</table>\n",
       "</div>"
      ],
      "text/plain": [
       "        year  month  day    user_id                              movie_id  \\\n",
       "938078  2022     11   17  228424759  b2cd3955-e7a7-4ba4-b9ef-b3f86df35de2   \n",
       "\n",
       "        watch_duration_minutes  \n",
       "938078             1755.366699  "
      ]
     },
     "execution_count": 45,
     "metadata": {},
     "output_type": "execute_result"
    }
   ],
   "source": [
    "interactions[interactions['watch_duration_minutes'] == interactions['watch_duration_minutes'].max()]"
   ]
  },
  {
   "cell_type": "code",
   "execution_count": 53,
   "metadata": {},
   "outputs": [
    {
     "data": {
      "text/html": [
       "<div>\n",
       "<style scoped>\n",
       "    .dataframe tbody tr th:only-of-type {\n",
       "        vertical-align: middle;\n",
       "    }\n",
       "\n",
       "    .dataframe tbody tr th {\n",
       "        vertical-align: top;\n",
       "    }\n",
       "\n",
       "    .dataframe thead th {\n",
       "        text-align: right;\n",
       "    }\n",
       "</style>\n",
       "<table border=\"1\" class=\"dataframe\">\n",
       "  <thead>\n",
       "    <tr style=\"text-align: right;\">\n",
       "      <th></th>\n",
       "      <th>movie_id</th>\n",
       "      <th>title</th>\n",
       "      <th>entity_type</th>\n",
       "      <th>genres</th>\n",
       "      <th>actors</th>\n",
       "      <th>director</th>\n",
       "      <th>country</th>\n",
       "      <th>release_world</th>\n",
       "      <th>age_rating</th>\n",
       "      <th>duration</th>\n",
       "      <th>age</th>\n",
       "      <th>popularity</th>\n",
       "    </tr>\n",
       "  </thead>\n",
       "  <tbody>\n",
       "    <tr>\n",
       "      <th>114602</th>\n",
       "      <td>fff15902-2da2-4daf-854d-054bf38ece7c</td>\n",
       "      <td>Движение вперед</td>\n",
       "      <td>Фильм</td>\n",
       "      <td>[\"Документальное\"]</td>\n",
       "      <td>[\"Бенедикт Бём\"]</td>\n",
       "      <td>[\"Дарио Тубальдо\"]</td>\n",
       "      <td>[\"Франция\"]</td>\n",
       "      <td>2020-02-01</td>\n",
       "      <td>16.0</td>\n",
       "      <td>21.0</td>\n",
       "      <td>39.0</td>\n",
       "      <td>18.0</td>\n",
       "    </tr>\n",
       "  </tbody>\n",
       "</table>\n",
       "</div>"
      ],
      "text/plain": [
       "                                    movie_id            title entity_type  \\\n",
       "114602  fff15902-2da2-4daf-854d-054bf38ece7c  Движение вперед       Фильм   \n",
       "\n",
       "                    genres            actors            director      country  \\\n",
       "114602  [\"Документальное\"]  [\"Бенедикт Бём\"]  [\"Дарио Тубальдо\"]  [\"Франция\"]   \n",
       "\n",
       "       release_world  age_rating  duration   age  popularity  \n",
       "114602    2020-02-01        16.0      21.0  39.0        18.0  "
      ]
     },
     "execution_count": 53,
     "metadata": {},
     "output_type": "execute_result"
    }
   ],
   "source": [
    "movies_md[movies_md['movie_id'] == 'fff15902-2da2-4daf-854d-054bf38ece7c']"
   ]
  }
 ],
 "metadata": {
  "kernelspec": {
   "display_name": "base",
   "language": "python",
   "name": "python3"
  },
  "language_info": {
   "codemirror_mode": {
    "name": "ipython",
    "version": 3
   },
   "file_extension": ".py",
   "mimetype": "text/x-python",
   "name": "python",
   "nbconvert_exporter": "python",
   "pygments_lexer": "ipython3",
   "version": "3.9.7"
  },
  "orig_nbformat": 4
 },
 "nbformat": 4,
 "nbformat_minor": 2
}
