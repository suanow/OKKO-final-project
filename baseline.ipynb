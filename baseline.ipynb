{
 "cells": [
  {
   "cell_type": "code",
   "execution_count": 1,
   "metadata": {},
   "outputs": [],
   "source": [
    "import numpy as np\n",
    "import pandas as pd\n",
    "import matplotlib.pyplot as plt\n",
    "\n",
    "from itertools import islice, cycle, product\n",
    "\n",
    "import warnings\n",
    "warnings.filterwarnings('ignore')"
   ]
  },
  {
   "cell_type": "code",
   "execution_count": 2,
   "metadata": {},
   "outputs": [],
   "source": [
    "interactions = pd.read_parquet('interactions.parquet',engine='pyarrow')\n",
    "movies_md = pd.read_parquet('movies_metdata.parquet',engine='pyarrow')"
   ]
  },
  {
   "cell_type": "code",
   "execution_count": 3,
   "metadata": {},
   "outputs": [
    {
     "name": "stdout",
     "output_type": "stream",
     "text": [
      "(1800000, 6) (1782240, 6)\n"
     ]
    }
   ],
   "source": [
    "interactions_filtered = interactions.loc[interactions['movie_id'].isin(movies_md['movie_id'])]\n",
    "print(interactions.shape, interactions_filtered.shape)"
   ]
  },
  {
   "cell_type": "code",
   "execution_count": 4,
   "metadata": {},
   "outputs": [],
   "source": [
    "users = interactions[['user_id']].drop_duplicates().reset_index(drop = True)"
   ]
  },
  {
   "cell_type": "code",
   "execution_count": 5,
   "metadata": {},
   "outputs": [],
   "source": [
    "item_name_mapper = dict(zip(movies_md['movie_id'], movies_md['title']))"
   ]
  },
  {
   "cell_type": "code",
   "execution_count": 6,
   "metadata": {},
   "outputs": [],
   "source": [
    "duration = movies_md[['movie_id','duration']]"
   ]
  },
  {
   "cell_type": "code",
   "execution_count": 7,
   "metadata": {},
   "outputs": [],
   "source": [
    "interactions = pd.merge(interactions_filtered,duration,how='left',on='movie_id')"
   ]
  },
  {
   "cell_type": "code",
   "execution_count": 8,
   "metadata": {},
   "outputs": [],
   "source": [
    "interactions = interactions.dropna()"
   ]
  },
  {
   "cell_type": "code",
   "execution_count": 9,
   "metadata": {},
   "outputs": [],
   "source": [
    "interactions['watch_percentage'] = interactions['watch_duration_minutes']/interactions['duration']"
   ]
  },
  {
   "cell_type": "code",
   "execution_count": 10,
   "metadata": {},
   "outputs": [],
   "source": [
    "def compute_popularity(df: pd.DataFrame, item_id: str, max_candidates: int):\n",
    "    \"\"\"\n",
    "    calculates mean rating to define popular titles\n",
    "    \"\"\"\n",
    "    popular_titles = df.groupby(item_id).agg({'watch_percentage': sum})\\\n",
    "                     .sort_values(['watch_percentage'], ascending=False).head(max_candidates).index.values\n",
    "\n",
    "    return popular_titles"
   ]
  },
  {
   "cell_type": "code",
   "execution_count": 11,
   "metadata": {},
   "outputs": [],
   "source": [
    "ITEM_COLUMN = 'movie_id'\n",
    "USER_COLUMN = 'user_id'\n",
    "base_recommendations = compute_popularity(interactions,ITEM_COLUMN,20)"
   ]
  },
  {
   "cell_type": "code",
   "execution_count": 12,
   "metadata": {},
   "outputs": [],
   "source": [
    "known_items = interactions_filtered.groupby(USER_COLUMN)[ITEM_COLUMN].apply(list).to_dict"
   ]
  },
  {
   "cell_type": "code",
   "execution_count": 13,
   "metadata": {},
   "outputs": [],
   "source": [
    "def fit(\n",
    "    data: pd.DataFrame,\n",
    "    item_col: str,\n",
    "    max_candidates: int = 20\n",
    "    ):\n",
    "    \n",
    "    recommendations = compute_popularity(data, item_col, max_candidates)\n",
    "\n",
    "    return recommendations"
   ]
  },
  {
   "cell_type": "code",
   "execution_count": 14,
   "metadata": {},
   "outputs": [],
   "source": [
    "recommendations = fit(interactions,ITEM_COLUMN,20)"
   ]
  },
  {
   "cell_type": "code",
   "execution_count": 15,
   "metadata": {},
   "outputs": [],
   "source": [
    "def recommend(\n",
    "    users: pd.DataFrame,\n",
    "    recommendations: pd.DataFrame\n",
    "    ):\n",
    "    \n",
    "    output = users.copy(deep = True)\n",
    "    recs = list(islice(cycle([recommendations]), len(users['user_id'])))\n",
    "    output['rekkos'] = recs\n",
    "\n",
    "    return output"
   ]
  },
  {
   "cell_type": "code",
   "execution_count": 16,
   "metadata": {},
   "outputs": [
    {
     "data": {
      "text/html": [
       "<div>\n",
       "<style scoped>\n",
       "    .dataframe tbody tr th:only-of-type {\n",
       "        vertical-align: middle;\n",
       "    }\n",
       "\n",
       "    .dataframe tbody tr th {\n",
       "        vertical-align: top;\n",
       "    }\n",
       "\n",
       "    .dataframe thead th {\n",
       "        text-align: right;\n",
       "    }\n",
       "</style>\n",
       "<table border=\"1\" class=\"dataframe\">\n",
       "  <thead>\n",
       "    <tr style=\"text-align: right;\">\n",
       "      <th></th>\n",
       "      <th>user_id</th>\n",
       "      <th>rekkos</th>\n",
       "    </tr>\n",
       "  </thead>\n",
       "  <tbody>\n",
       "    <tr>\n",
       "      <th>0</th>\n",
       "      <td>58073</td>\n",
       "      <td>[e088637d-967f-478b-8158-98b90aded146, 42f5cb3...</td>\n",
       "    </tr>\n",
       "    <tr>\n",
       "      <th>1</th>\n",
       "      <td>63698</td>\n",
       "      <td>[e088637d-967f-478b-8158-98b90aded146, 42f5cb3...</td>\n",
       "    </tr>\n",
       "    <tr>\n",
       "      <th>2</th>\n",
       "      <td>66655</td>\n",
       "      <td>[e088637d-967f-478b-8158-98b90aded146, 42f5cb3...</td>\n",
       "    </tr>\n",
       "    <tr>\n",
       "      <th>3</th>\n",
       "      <td>67981</td>\n",
       "      <td>[e088637d-967f-478b-8158-98b90aded146, 42f5cb3...</td>\n",
       "    </tr>\n",
       "    <tr>\n",
       "      <th>4</th>\n",
       "      <td>68523</td>\n",
       "      <td>[e088637d-967f-478b-8158-98b90aded146, 42f5cb3...</td>\n",
       "    </tr>\n",
       "    <tr>\n",
       "      <th>...</th>\n",
       "      <td>...</td>\n",
       "      <td>...</td>\n",
       "    </tr>\n",
       "    <tr>\n",
       "      <th>127055</th>\n",
       "      <td>219430078</td>\n",
       "      <td>[e088637d-967f-478b-8158-98b90aded146, 42f5cb3...</td>\n",
       "    </tr>\n",
       "    <tr>\n",
       "      <th>127056</th>\n",
       "      <td>219433995</td>\n",
       "      <td>[e088637d-967f-478b-8158-98b90aded146, 42f5cb3...</td>\n",
       "    </tr>\n",
       "    <tr>\n",
       "      <th>127057</th>\n",
       "      <td>239015456</td>\n",
       "      <td>[e088637d-967f-478b-8158-98b90aded146, 42f5cb3...</td>\n",
       "    </tr>\n",
       "    <tr>\n",
       "      <th>127058</th>\n",
       "      <td>211248863</td>\n",
       "      <td>[e088637d-967f-478b-8158-98b90aded146, 42f5cb3...</td>\n",
       "    </tr>\n",
       "    <tr>\n",
       "      <th>127059</th>\n",
       "      <td>211249951</td>\n",
       "      <td>[e088637d-967f-478b-8158-98b90aded146, 42f5cb3...</td>\n",
       "    </tr>\n",
       "  </tbody>\n",
       "</table>\n",
       "<p>127060 rows × 2 columns</p>\n",
       "</div>"
      ],
      "text/plain": [
       "          user_id                                             rekkos\n",
       "0           58073  [e088637d-967f-478b-8158-98b90aded146, 42f5cb3...\n",
       "1           63698  [e088637d-967f-478b-8158-98b90aded146, 42f5cb3...\n",
       "2           66655  [e088637d-967f-478b-8158-98b90aded146, 42f5cb3...\n",
       "3           67981  [e088637d-967f-478b-8158-98b90aded146, 42f5cb3...\n",
       "4           68523  [e088637d-967f-478b-8158-98b90aded146, 42f5cb3...\n",
       "...           ...                                                ...\n",
       "127055  219430078  [e088637d-967f-478b-8158-98b90aded146, 42f5cb3...\n",
       "127056  219433995  [e088637d-967f-478b-8158-98b90aded146, 42f5cb3...\n",
       "127057  239015456  [e088637d-967f-478b-8158-98b90aded146, 42f5cb3...\n",
       "127058  211248863  [e088637d-967f-478b-8158-98b90aded146, 42f5cb3...\n",
       "127059  211249951  [e088637d-967f-478b-8158-98b90aded146, 42f5cb3...\n",
       "\n",
       "[127060 rows x 2 columns]"
      ]
     },
     "execution_count": 16,
     "metadata": {},
     "output_type": "execute_result"
    }
   ],
   "source": [
    "recommend(users,recommendations)"
   ]
  },
  {
   "cell_type": "code",
   "execution_count": 17,
   "metadata": {},
   "outputs": [
    {
     "name": "stdout",
     "output_type": "stream",
     "text": [
      "Сердце Пармы\n",
      "Вышка\n",
      "Барбоскины Team\n",
      "Три тысячи лет желаний\n",
      "Гринч\n",
      "Три кота и море приключений\n",
      "Босс-молокосос\n",
      "Один дома\n",
      "Либерея: Охотники за сокровищами\n",
      "Пес-самурай и город кошек\n",
      "Щенячий патруль в кино\n",
      "Начать сначала\n",
      "Красная Шапочка\n",
      "Ирония судьбы в Голливуде\n",
      "Зверопой 2\n",
      "Любовники\n",
      "Холодное сердце\n",
      "Холодное сердце 2\n",
      "Гадкий я\n",
      "Один дома 2: Затерянный в Нью-Йорке\n"
     ]
    }
   ],
   "source": [
    "for i in base_recommendations:\n",
    "    print(item_name_mapper[i])"
   ]
  },
  {
   "cell_type": "code",
   "execution_count": null,
   "metadata": {},
   "outputs": [],
   "source": []
  }
 ],
 "metadata": {
  "kernelspec": {
   "display_name": "Python 3",
   "language": "python",
   "name": "python3"
  },
  "language_info": {
   "codemirror_mode": {
    "name": "ipython",
    "version": 3
   },
   "file_extension": ".py",
   "mimetype": "text/x-python",
   "name": "python",
   "nbconvert_exporter": "python",
   "pygments_lexer": "ipython3",
   "version": "3.9.7"
  },
  "orig_nbformat": 4
 },
 "nbformat": 4,
 "nbformat_minor": 2
}
